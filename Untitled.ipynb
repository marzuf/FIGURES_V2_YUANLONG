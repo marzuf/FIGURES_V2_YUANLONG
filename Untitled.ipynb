{
 "cells": [
  {
   "cell_type": "code",
   "execution_count": 27,
   "metadata": {},
   "outputs": [],
   "source": [
    "import pandas as pd\n",
    "import matplotlib.pyplot as plt\n",
    "import numpy as np\n",
    "from scipy.ndimage import rotate\n",
    "from scipy.sparse import coo_matrix, triu\n",
    "\n",
    "def to_matrix(data, chrom1, chrom2, \n",
    "              resolution, assembly=\"hg19\",\n",
    "              start1=None, end1=None, \n",
    "              start2=None, end2=None):\n",
    "    \n",
    "    if all([x is not None for x in [start1, end1, start2, end2]]):\n",
    "        start_bin1 = start1//resolution\n",
    "        end_bin1 = end1//resolution\n",
    "        start_bin2 = start2//resolution\n",
    "        end_bin2 = end2//resolution\n",
    "    else:\n",
    "        chromsize = load_chromsizes(assembly)\n",
    "        chromsize1 = chromsize[chrom1]\n",
    "        chromsize2 = chromsize[chrom2]\n",
    "        start_bin1 = 0\n",
    "        end_bin1 = chromsize1//resolution\n",
    "        start_bin2 = 0\n",
    "        end_bin2 = chromsize2//resolution\n",
    "    \n",
    "    n_bins_1 = end_bin1 - start_bin1 + 1#int(chromsize1 / resolution) + 1\n",
    "    n_bins_2 = end_bin2 - start_bin2 + 1#int(chromsize2 / resolution) + 1\n",
    "    \n",
    "    bin1s = data.bin1//resolution - start_bin1#(data.bin1 / resolution).astype(int).values\n",
    "    bin2s = data.bin2//resolution - start_bin2#(data.bin2 / resolution).astype(int).values\n",
    "    values = data.value.values\n",
    "    m = coo_matrix( (values, (bin1s, bin2s)), shape=(n_bins_1, n_bins_2) )\n",
    "    if chrom1 == chrom2:\n",
    "        m = triu(m, k=1).T + m\n",
    "    return m\n",
    "\n",
    "def load_tad_list(tad_file, **args):\n",
    "    tad_dt = pd.read_csv(tad_file, **args)\n",
    "    if tad_dt.shape[1] == 3:\n",
    "        #return([np.array(tad_dt.iloc[:,1]), np.array(tad_dt.iloc[:,2])])\n",
    "        return([list(tad_dt.iloc[:,1]), list(tad_dt.iloc[:,2])])\n",
    "    else:\n",
    "        #return([np.array(tad_dt.iloc[:,0]), np.array(tad_dt.iloc[:,1])])\n",
    "        return([list(tad_dt.iloc[:,0]), list(tad_dt.iloc[:,1])])\n",
    "    return tad_dt\n",
    "\n",
    "\n",
    "\n",
    "\n",
    "\n",
    "\n",
    "\n",
    "\n",
    "\n",
    "\n",
    "\n",
    "\n",
    "\n",
    "\n",
    "\n",
    "\n",
    "\n",
    "\n",
    "\n",
    "\n",
    "\n",
    "\n",
    "\n",
    "\n",
    "\n",
    "\n",
    "\n",
    "\n",
    "    \n",
    "def plot_hic_with_tads(hic_data, tad_file, chromo, bin_size, hic_start, hic_end, out_file=None, shrinkValue = 1):\n",
    "    \n",
    "    # convert Hi-C data to matrix format\n",
    "    m = to_matrix(hic_data, chrom, chrom, bin_size, start1=hic_start, end1=hic_end, start2=hic_start, end2=hic_end)\n",
    "\n",
    "    diagonal_height = np.sqrt(m.shape[0]**2 / 2)\n",
    "\n",
    "    my_map = plt.get_cmap(\"Reds\")\n",
    "    my_map.set_under('white')\n",
    "    fig, ax = plt.subplots(1, 1, figsize=(20, 20))\n",
    "    X = np.log10(np.triu(m.todense()*shrinkValue) + 1)\n",
    "    ax.matshow( rotate(X, 45), cmap=my_map, vmin=0.01 )\n",
    "\n",
    "    plt.ylim(diagonal_height)\n",
    "    plt.xticks([])\n",
    "    plt.yticks([])\n",
    "    plt.axis('off')\n",
    "\n",
    "    for tad_start, tad_end in zip(tad_toplot[0], tad_toplot[1]):\n",
    "\n",
    "        tad_start_bin = (tad_start - start)//resolution  # tad_pos_1 -> tad_bin_1\n",
    "        tad_end_bin = (tad_end - start)//resolution\n",
    "\n",
    "\n",
    "        conv_start = np.sqrt(2) * tad_start_bin  # distance to bin start: on the side of the square, it is the # of bins but in triangle plot, it is the diagonal\n",
    "        conv_end = np.sqrt(2) * tad_end_bin\n",
    "\n",
    "\n",
    "        tad_triangle = np.array([\n",
    "            [conv_start,diagonal_height],\n",
    "            [0.5*(conv_start+conv_end), diagonal_height-(conv_end-conv_start)*0.5],\n",
    "            [conv_end, diagonal_height]\n",
    "        ])\n",
    "\n",
    "\n",
    "\n",
    "        t1 = plt.Polygon(tad_triangle, facecolor='none', edgecolor='black', linewidth=10)\n",
    "\n",
    "\n",
    "        ax.add_patch(t1)\n",
    "\n",
    "\n",
    "\n"
   ]
  },
  {
   "cell_type": "code",
   "execution_count": 24,
   "metadata": {},
   "outputs": [
    {
     "ename": "NameError",
     "evalue": "name 'start' is not defined",
     "output_type": "error",
     "traceback": [
      "\u001b[0;31m---------------------------------------------------------------------------\u001b[0m",
      "\u001b[0;31mNameError\u001b[0m                                 Traceback (most recent call last)",
      "\u001b[0;32m<ipython-input-24-53124406821f>\u001b[0m in \u001b[0;36m<module>\u001b[0;34m()\u001b[0m\n\u001b[1;32m      2\u001b[0m \u001b[0mmap_end\u001b[0m\u001b[0;34m=\u001b[0m\u001b[0;36m20000000\u001b[0m\u001b[0;34m\u001b[0m\u001b[0m\n\u001b[1;32m      3\u001b[0m \u001b[0mdata\u001b[0m \u001b[0;34m=\u001b[0m \u001b[0mpd\u001b[0m\u001b[0;34m.\u001b[0m\u001b[0mread_csv\u001b[0m\u001b[0;34m(\u001b[0m\u001b[0mmatrix_file\u001b[0m\u001b[0;34m,\u001b[0m \u001b[0msep\u001b[0m\u001b[0;34m=\u001b[0m\u001b[0;34m\"\\t\"\u001b[0m\u001b[0;34m,\u001b[0m \u001b[0mheader\u001b[0m\u001b[0;34m=\u001b[0m\u001b[0;32mNone\u001b[0m\u001b[0;34m,\u001b[0m \u001b[0mnames\u001b[0m\u001b[0;34m=\u001b[0m\u001b[0;34m[\u001b[0m\u001b[0;34m'bin1'\u001b[0m\u001b[0;34m,\u001b[0m \u001b[0;34m'bin2'\u001b[0m\u001b[0;34m,\u001b[0m \u001b[0;34m'value'\u001b[0m\u001b[0;34m]\u001b[0m\u001b[0;34m)\u001b[0m\u001b[0;34m\u001b[0m\u001b[0m\n\u001b[0;32m----> 4\u001b[0;31m \u001b[0mdata\u001b[0m \u001b[0;34m=\u001b[0m \u001b[0mdata\u001b[0m\u001b[0;34m[\u001b[0m\u001b[0;34m(\u001b[0m\u001b[0mdata\u001b[0m\u001b[0;34m.\u001b[0m\u001b[0mbin1\u001b[0m\u001b[0;34m>=\u001b[0m\u001b[0mstart\u001b[0m\u001b[0;34m)\u001b[0m \u001b[0;34m&\u001b[0m \u001b[0;34m(\u001b[0m\u001b[0mdata\u001b[0m\u001b[0;34m.\u001b[0m\u001b[0mbin2\u001b[0m\u001b[0;34m<=\u001b[0m\u001b[0mend\u001b[0m\u001b[0;34m)\u001b[0m\u001b[0;34m]\u001b[0m\u001b[0;34m\u001b[0m\u001b[0m\n\u001b[0m\u001b[1;32m      5\u001b[0m \u001b[0;34m\u001b[0m\u001b[0m\n\u001b[1;32m      6\u001b[0m \u001b[0;34m\u001b[0m\u001b[0m\n",
      "\u001b[0;31mNameError\u001b[0m: name 'start' is not defined"
     ]
    }
   ],
   "source": [
    "data_s = pd.read_csv(matrix_file, sep=\"\\t\", header=None, names=['bin1', 'bin2', 'value'])"
   ]
  },
  {
   "cell_type": "code",
   "execution_count": 26,
   "metadata": {},
   "outputs": [],
   "source": [
    "map_start=0\n",
    "map_end=20000000\n",
    "data_s=data\n",
    "\n",
    "def to_matrix(data, chrom1, chrom2, \n",
    "              resolution, assembly=\"hg19\",\n",
    "              start1=None, end1=None, \n",
    "              start2=None, end2=None):\n",
    "    \n",
    "    if all([x is not None for x in [start1, end1, start2, end2]]):\n",
    "        start_bin1 = start1//resolution\n",
    "        end_bin1 = end1//resolution\n",
    "        start_bin2 = start2//resolution\n",
    "        end_bin2 = end2//resolution\n",
    "    else:\n",
    "        chromsize = load_chromsizes(assembly)\n",
    "        chromsize1 = chromsize[chrom1]\n",
    "        chromsize2 = chromsize[chrom2]\n",
    "        start_bin1 = 0\n",
    "        end_bin1 = chromsize1//resolution\n",
    "        start_bin2 = 0\n",
    "        end_bin2 = chromsize2//resolution\n",
    "    \n",
    "    n_bins_1 = end_bin1 - start_bin1 + 1#int(chromsize1 / resolution) + 1\n",
    "    n_bins_2 = end_bin2 - start_bin2 + 1#int(chromsize2 / resolution) + 1\n",
    "    \n",
    "    bin1s = data.bin1//resolution - start_bin1#(data.bin1 / resolution).astype(int).values\n",
    "    bin2s = data.bin2//resolution - start_bin2#(data.bin2 / resolution).astype(int).values\n",
    "    values = data.value.values\n",
    "    m = coo_matrix( (values, (bin1s, bin2s)), shape=(n_bins_1, n_bins_2) )\n",
    "    if chrom1 == chrom2:\n",
    "        m = triu(m, k=1).T + m\n",
    "    return m"
   ]
  },
  {
   "cell_type": "code",
   "execution_count": 29,
   "metadata": {},
   "outputs": [
    {
     "ename": "ValueError",
     "evalue": "row index exceeds matrix dimensions",
     "output_type": "error",
     "traceback": [
      "\u001b[0;31m---------------------------------------------------------------------------\u001b[0m",
      "\u001b[0;31mValueError\u001b[0m                                Traceback (most recent call last)",
      "\u001b[0;32m<ipython-input-29-17660384df1d>\u001b[0m in \u001b[0;36m<module>\u001b[0;34m()\u001b[0m\n\u001b[0;32m----> 1\u001b[0;31m \u001b[0mm\u001b[0m \u001b[0;34m=\u001b[0m \u001b[0mto_matrix\u001b[0m\u001b[0;34m(\u001b[0m\u001b[0mdata\u001b[0m\u001b[0;34m,\u001b[0m \u001b[0mchrom\u001b[0m\u001b[0;34m,\u001b[0m \u001b[0mchrom\u001b[0m\u001b[0;34m,\u001b[0m \u001b[0mresolution\u001b[0m\u001b[0;34m,\u001b[0m \u001b[0mstart1\u001b[0m\u001b[0;34m=\u001b[0m\u001b[0mmap_start\u001b[0m\u001b[0;34m,\u001b[0m \u001b[0mend1\u001b[0m\u001b[0;34m=\u001b[0m\u001b[0mmap_end\u001b[0m\u001b[0;34m,\u001b[0m \u001b[0mstart2\u001b[0m\u001b[0;34m=\u001b[0m\u001b[0mmap_start\u001b[0m\u001b[0;34m,\u001b[0m \u001b[0mend2\u001b[0m\u001b[0;34m=\u001b[0m\u001b[0mmap_end\u001b[0m\u001b[0;34m)\u001b[0m\u001b[0;34m\u001b[0m\u001b[0m\n\u001b[0m",
      "\u001b[0;32m<ipython-input-27-3ae170678e80>\u001b[0m in \u001b[0;36mto_matrix\u001b[0;34m(data, chrom1, chrom2, resolution, assembly, start1, end1, start2, end2)\u001b[0m\n\u001b[1;32m     30\u001b[0m     \u001b[0mbin2s\u001b[0m \u001b[0;34m=\u001b[0m \u001b[0mdata\u001b[0m\u001b[0;34m.\u001b[0m\u001b[0mbin2\u001b[0m\u001b[0;34m//\u001b[0m\u001b[0mresolution\u001b[0m \u001b[0;34m-\u001b[0m \u001b[0mstart_bin2\u001b[0m\u001b[0;31m#(data.bin2 / resolution).astype(int).values\u001b[0m\u001b[0;34m\u001b[0m\u001b[0m\n\u001b[1;32m     31\u001b[0m     \u001b[0mvalues\u001b[0m \u001b[0;34m=\u001b[0m \u001b[0mdata\u001b[0m\u001b[0;34m.\u001b[0m\u001b[0mvalue\u001b[0m\u001b[0;34m.\u001b[0m\u001b[0mvalues\u001b[0m\u001b[0;34m\u001b[0m\u001b[0m\n\u001b[0;32m---> 32\u001b[0;31m     \u001b[0mm\u001b[0m \u001b[0;34m=\u001b[0m \u001b[0mcoo_matrix\u001b[0m\u001b[0;34m(\u001b[0m \u001b[0;34m(\u001b[0m\u001b[0mvalues\u001b[0m\u001b[0;34m,\u001b[0m \u001b[0;34m(\u001b[0m\u001b[0mbin1s\u001b[0m\u001b[0;34m,\u001b[0m \u001b[0mbin2s\u001b[0m\u001b[0;34m)\u001b[0m\u001b[0;34m)\u001b[0m\u001b[0;34m,\u001b[0m \u001b[0mshape\u001b[0m\u001b[0;34m=\u001b[0m\u001b[0;34m(\u001b[0m\u001b[0mn_bins_1\u001b[0m\u001b[0;34m,\u001b[0m \u001b[0mn_bins_2\u001b[0m\u001b[0;34m)\u001b[0m \u001b[0;34m)\u001b[0m\u001b[0;34m\u001b[0m\u001b[0m\n\u001b[0m\u001b[1;32m     33\u001b[0m     \u001b[0;32mif\u001b[0m \u001b[0mchrom1\u001b[0m \u001b[0;34m==\u001b[0m \u001b[0mchrom2\u001b[0m\u001b[0;34m:\u001b[0m\u001b[0;34m\u001b[0m\u001b[0m\n\u001b[1;32m     34\u001b[0m         \u001b[0mm\u001b[0m \u001b[0;34m=\u001b[0m \u001b[0mtriu\u001b[0m\u001b[0;34m(\u001b[0m\u001b[0mm\u001b[0m\u001b[0;34m,\u001b[0m \u001b[0mk\u001b[0m\u001b[0;34m=\u001b[0m\u001b[0;36m1\u001b[0m\u001b[0;34m)\u001b[0m\u001b[0;34m.\u001b[0m\u001b[0mT\u001b[0m \u001b[0;34m+\u001b[0m \u001b[0mm\u001b[0m\u001b[0;34m\u001b[0m\u001b[0m\n",
      "\u001b[0;32m/usr/local/lib/python3.5/dist-packages/scipy/sparse/coo.py\u001b[0m in \u001b[0;36m__init__\u001b[0;34m(self, arg1, shape, dtype, copy)\u001b[0m\n\u001b[1;32m    190\u001b[0m             \u001b[0mself\u001b[0m\u001b[0;34m.\u001b[0m\u001b[0mdata\u001b[0m \u001b[0;34m=\u001b[0m \u001b[0mself\u001b[0m\u001b[0;34m.\u001b[0m\u001b[0mdata\u001b[0m\u001b[0;34m.\u001b[0m\u001b[0mastype\u001b[0m\u001b[0;34m(\u001b[0m\u001b[0mdtype\u001b[0m\u001b[0;34m,\u001b[0m \u001b[0mcopy\u001b[0m\u001b[0;34m=\u001b[0m\u001b[0;32mFalse\u001b[0m\u001b[0;34m)\u001b[0m\u001b[0;34m\u001b[0m\u001b[0m\n\u001b[1;32m    191\u001b[0m \u001b[0;34m\u001b[0m\u001b[0m\n\u001b[0;32m--> 192\u001b[0;31m         \u001b[0mself\u001b[0m\u001b[0;34m.\u001b[0m\u001b[0m_check\u001b[0m\u001b[0;34m(\u001b[0m\u001b[0;34m)\u001b[0m\u001b[0;34m\u001b[0m\u001b[0m\n\u001b[0m\u001b[1;32m    193\u001b[0m \u001b[0;34m\u001b[0m\u001b[0m\n\u001b[1;32m    194\u001b[0m     \u001b[0;32mdef\u001b[0m \u001b[0mreshape\u001b[0m\u001b[0;34m(\u001b[0m\u001b[0mself\u001b[0m\u001b[0;34m,\u001b[0m \u001b[0;34m*\u001b[0m\u001b[0margs\u001b[0m\u001b[0;34m,\u001b[0m \u001b[0;34m**\u001b[0m\u001b[0mkwargs\u001b[0m\u001b[0;34m)\u001b[0m\u001b[0;34m:\u001b[0m\u001b[0;34m\u001b[0m\u001b[0m\n",
      "\u001b[0;32m/usr/local/lib/python3.5/dist-packages/scipy/sparse/coo.py\u001b[0m in \u001b[0;36m_check\u001b[0;34m(self)\u001b[0m\n\u001b[1;32m    270\u001b[0m         \u001b[0;32mif\u001b[0m \u001b[0mself\u001b[0m\u001b[0;34m.\u001b[0m\u001b[0mnnz\u001b[0m \u001b[0;34m>\u001b[0m \u001b[0;36m0\u001b[0m\u001b[0;34m:\u001b[0m\u001b[0;34m\u001b[0m\u001b[0m\n\u001b[1;32m    271\u001b[0m             \u001b[0;32mif\u001b[0m \u001b[0mself\u001b[0m\u001b[0;34m.\u001b[0m\u001b[0mrow\u001b[0m\u001b[0;34m.\u001b[0m\u001b[0mmax\u001b[0m\u001b[0;34m(\u001b[0m\u001b[0;34m)\u001b[0m \u001b[0;34m>=\u001b[0m \u001b[0mself\u001b[0m\u001b[0;34m.\u001b[0m\u001b[0mshape\u001b[0m\u001b[0;34m[\u001b[0m\u001b[0;36m0\u001b[0m\u001b[0;34m]\u001b[0m\u001b[0;34m:\u001b[0m\u001b[0;34m\u001b[0m\u001b[0m\n\u001b[0;32m--> 272\u001b[0;31m                 \u001b[0;32mraise\u001b[0m \u001b[0mValueError\u001b[0m\u001b[0;34m(\u001b[0m\u001b[0;34m'row index exceeds matrix dimensions'\u001b[0m\u001b[0;34m)\u001b[0m\u001b[0;34m\u001b[0m\u001b[0m\n\u001b[0m\u001b[1;32m    273\u001b[0m             \u001b[0;32mif\u001b[0m \u001b[0mself\u001b[0m\u001b[0;34m.\u001b[0m\u001b[0mcol\u001b[0m\u001b[0;34m.\u001b[0m\u001b[0mmax\u001b[0m\u001b[0;34m(\u001b[0m\u001b[0;34m)\u001b[0m \u001b[0;34m>=\u001b[0m \u001b[0mself\u001b[0m\u001b[0;34m.\u001b[0m\u001b[0mshape\u001b[0m\u001b[0;34m[\u001b[0m\u001b[0;36m1\u001b[0m\u001b[0;34m]\u001b[0m\u001b[0;34m:\u001b[0m\u001b[0;34m\u001b[0m\u001b[0m\n\u001b[1;32m    274\u001b[0m                 \u001b[0;32mraise\u001b[0m \u001b[0mValueError\u001b[0m\u001b[0;34m(\u001b[0m\u001b[0;34m'column index exceeds matrix dimensions'\u001b[0m\u001b[0;34m)\u001b[0m\u001b[0;34m\u001b[0m\u001b[0m\n",
      "\u001b[0;31mValueError\u001b[0m: row index exceeds matrix dimensions"
     ]
    }
   ],
   "source": [
    "m = to_matrix(data, chrom, chrom, resolution, start1=map_start, end1=map_end, start2=map_start, end2=map_end)"
   ]
  },
  {
   "cell_type": "code",
   "execution_count": 7,
   "metadata": {},
   "outputs": [],
   "source": [
    "\n",
    "matrix_file =  \"/media/electron//mnt/ptemp/luca/hic_enhance/data/hic/Rao2014-GM12878-full/Rao2014_observed_NONE_1_1_50000.txt\"\n",
    "tad_file = \"tad_list_3cols.txt\"\n",
    "out_file = \"./sub_matrix_with_tads.pdf\"\n",
    "chrom = 'chr1'\n",
    "resolution = 50*1000\n",
    "\n",
    "# where to start and end drawing Hi-C map\n",
    "map_start = 0  \n",
    "map_end=20000000\n",
    "#mat_data = pd.read_csv(matrix_file, sep=\"\\t\", header=None, names=['bin1', 'bin2', 'value'])\n",
    "\n",
    "\n",
    "                    \n",
    "    \n",
    "\n"
   ]
  },
  {
   "cell_type": "code",
   "execution_count": 12,
   "metadata": {},
   "outputs": [
    {
     "ename": "ValueError",
     "evalue": "row index exceeds matrix dimensions",
     "output_type": "error",
     "traceback": [
      "\u001b[0;31m---------------------------------------------------------------------------\u001b[0m",
      "\u001b[0;31mValueError\u001b[0m                                Traceback (most recent call last)",
      "\u001b[0;32m<ipython-input-12-3a3d471f68a0>\u001b[0m in \u001b[0;36m<module>\u001b[0;34m()\u001b[0m\n\u001b[0;32m----> 1\u001b[0;31m \u001b[0mplot_hic_with_tads\u001b[0m\u001b[0;34m(\u001b[0m\u001b[0mhic_data\u001b[0m\u001b[0;34m=\u001b[0m\u001b[0mmat_data\u001b[0m\u001b[0;34m,\u001b[0m \u001b[0mtad_file\u001b[0m\u001b[0;34m=\u001b[0m\u001b[0mtad_file\u001b[0m\u001b[0;34m,\u001b[0m \u001b[0mchromo\u001b[0m\u001b[0;34m=\u001b[0m\u001b[0mchrom\u001b[0m\u001b[0;34m,\u001b[0m \u001b[0mbin_size\u001b[0m\u001b[0;34m=\u001b[0m\u001b[0mresolution\u001b[0m\u001b[0;34m,\u001b[0m \u001b[0mhic_start\u001b[0m\u001b[0;34m=\u001b[0m\u001b[0mmap_start\u001b[0m\u001b[0;34m,\u001b[0m \u001b[0mhic_end\u001b[0m\u001b[0;34m=\u001b[0m\u001b[0mmap_end\u001b[0m\u001b[0;34m)\u001b[0m\u001b[0;34m\u001b[0m\u001b[0m\n\u001b[0m",
      "\u001b[0;32m<ipython-input-11-1809dfb83410>\u001b[0m in \u001b[0;36mplot_hic_with_tads\u001b[0;34m(hic_data, tad_file, chromo, bin_size, hic_start, hic_end, out_file, shrinkValue)\u001b[0m\n\u001b[1;32m     60\u001b[0m \u001b[0;34m\u001b[0m\u001b[0m\n\u001b[1;32m     61\u001b[0m     \u001b[0;31m# convert Hi-C data to matrix format\u001b[0m\u001b[0;34m\u001b[0m\u001b[0;34m\u001b[0m\u001b[0m\n\u001b[0;32m---> 62\u001b[0;31m     \u001b[0mm\u001b[0m \u001b[0;34m=\u001b[0m \u001b[0mto_matrix\u001b[0m\u001b[0;34m(\u001b[0m\u001b[0mhic_data\u001b[0m\u001b[0;34m,\u001b[0m \u001b[0mchrom\u001b[0m\u001b[0;34m,\u001b[0m \u001b[0mchrom\u001b[0m\u001b[0;34m,\u001b[0m \u001b[0mbin_size\u001b[0m\u001b[0;34m,\u001b[0m \u001b[0mstart1\u001b[0m\u001b[0;34m=\u001b[0m\u001b[0mhic_start\u001b[0m\u001b[0;34m,\u001b[0m \u001b[0mend1\u001b[0m\u001b[0;34m=\u001b[0m\u001b[0mhic_end\u001b[0m\u001b[0;34m,\u001b[0m \u001b[0mstart2\u001b[0m\u001b[0;34m=\u001b[0m\u001b[0mhic_start\u001b[0m\u001b[0;34m,\u001b[0m \u001b[0mend2\u001b[0m\u001b[0;34m=\u001b[0m\u001b[0mhic_end\u001b[0m\u001b[0;34m)\u001b[0m\u001b[0;34m\u001b[0m\u001b[0m\n\u001b[0m\u001b[1;32m     63\u001b[0m \u001b[0;34m\u001b[0m\u001b[0m\n\u001b[1;32m     64\u001b[0m     \u001b[0mdiagonal_height\u001b[0m \u001b[0;34m=\u001b[0m \u001b[0mnp\u001b[0m\u001b[0;34m.\u001b[0m\u001b[0msqrt\u001b[0m\u001b[0;34m(\u001b[0m\u001b[0mm\u001b[0m\u001b[0;34m.\u001b[0m\u001b[0mshape\u001b[0m\u001b[0;34m[\u001b[0m\u001b[0;36m0\u001b[0m\u001b[0;34m]\u001b[0m\u001b[0;34m**\u001b[0m\u001b[0;36m2\u001b[0m \u001b[0;34m/\u001b[0m \u001b[0;36m2\u001b[0m\u001b[0;34m)\u001b[0m\u001b[0;34m\u001b[0m\u001b[0m\n",
      "\u001b[0;32m<ipython-input-11-1809dfb83410>\u001b[0m in \u001b[0;36mto_matrix\u001b[0;34m(data, chrom1, chrom2, resolution, assembly, plot_start, plot_end, start1, end1, start2, end2)\u001b[0m\n\u001b[1;32m     38\u001b[0m     \u001b[0mbin2s\u001b[0m \u001b[0;34m=\u001b[0m \u001b[0mdata\u001b[0m\u001b[0;34m.\u001b[0m\u001b[0mbin2\u001b[0m\u001b[0;34m//\u001b[0m\u001b[0mresolution\u001b[0m \u001b[0;34m-\u001b[0m \u001b[0mstart_bin2\u001b[0m\u001b[0;31m#(data.bin2 / resolution).astype(int).values\u001b[0m\u001b[0;34m\u001b[0m\u001b[0m\n\u001b[1;32m     39\u001b[0m     \u001b[0mvalues\u001b[0m \u001b[0;34m=\u001b[0m \u001b[0mdata\u001b[0m\u001b[0;34m.\u001b[0m\u001b[0mvalue\u001b[0m\u001b[0;34m.\u001b[0m\u001b[0mvalues\u001b[0m\u001b[0;34m\u001b[0m\u001b[0m\n\u001b[0;32m---> 40\u001b[0;31m     \u001b[0mm\u001b[0m \u001b[0;34m=\u001b[0m \u001b[0mcoo_matrix\u001b[0m\u001b[0;34m(\u001b[0m \u001b[0;34m(\u001b[0m\u001b[0mvalues\u001b[0m\u001b[0;34m,\u001b[0m \u001b[0;34m(\u001b[0m\u001b[0mbin1s\u001b[0m\u001b[0;34m,\u001b[0m \u001b[0mbin2s\u001b[0m\u001b[0;34m)\u001b[0m\u001b[0;34m)\u001b[0m\u001b[0;34m,\u001b[0m \u001b[0mshape\u001b[0m\u001b[0;34m=\u001b[0m\u001b[0;34m(\u001b[0m\u001b[0mn_bins_1\u001b[0m\u001b[0;34m,\u001b[0m \u001b[0mn_bins_2\u001b[0m\u001b[0;34m)\u001b[0m \u001b[0;34m)\u001b[0m\u001b[0;34m\u001b[0m\u001b[0m\n\u001b[0m\u001b[1;32m     41\u001b[0m     \u001b[0;32mif\u001b[0m \u001b[0mchrom1\u001b[0m \u001b[0;34m==\u001b[0m \u001b[0mchrom2\u001b[0m\u001b[0;34m:\u001b[0m\u001b[0;34m\u001b[0m\u001b[0m\n\u001b[1;32m     42\u001b[0m         \u001b[0mm\u001b[0m \u001b[0;34m=\u001b[0m \u001b[0mtriu\u001b[0m\u001b[0;34m(\u001b[0m\u001b[0mm\u001b[0m\u001b[0;34m,\u001b[0m \u001b[0mk\u001b[0m\u001b[0;34m=\u001b[0m\u001b[0;36m1\u001b[0m\u001b[0;34m)\u001b[0m\u001b[0;34m.\u001b[0m\u001b[0mT\u001b[0m \u001b[0;34m+\u001b[0m \u001b[0mm\u001b[0m\u001b[0;34m\u001b[0m\u001b[0m\n",
      "\u001b[0;32m/usr/local/lib/python3.5/dist-packages/scipy/sparse/coo.py\u001b[0m in \u001b[0;36m__init__\u001b[0;34m(self, arg1, shape, dtype, copy)\u001b[0m\n\u001b[1;32m    190\u001b[0m             \u001b[0mself\u001b[0m\u001b[0;34m.\u001b[0m\u001b[0mdata\u001b[0m \u001b[0;34m=\u001b[0m \u001b[0mself\u001b[0m\u001b[0;34m.\u001b[0m\u001b[0mdata\u001b[0m\u001b[0;34m.\u001b[0m\u001b[0mastype\u001b[0m\u001b[0;34m(\u001b[0m\u001b[0mdtype\u001b[0m\u001b[0;34m,\u001b[0m \u001b[0mcopy\u001b[0m\u001b[0;34m=\u001b[0m\u001b[0;32mFalse\u001b[0m\u001b[0;34m)\u001b[0m\u001b[0;34m\u001b[0m\u001b[0m\n\u001b[1;32m    191\u001b[0m \u001b[0;34m\u001b[0m\u001b[0m\n\u001b[0;32m--> 192\u001b[0;31m         \u001b[0mself\u001b[0m\u001b[0;34m.\u001b[0m\u001b[0m_check\u001b[0m\u001b[0;34m(\u001b[0m\u001b[0;34m)\u001b[0m\u001b[0;34m\u001b[0m\u001b[0m\n\u001b[0m\u001b[1;32m    193\u001b[0m \u001b[0;34m\u001b[0m\u001b[0m\n\u001b[1;32m    194\u001b[0m     \u001b[0;32mdef\u001b[0m \u001b[0mreshape\u001b[0m\u001b[0;34m(\u001b[0m\u001b[0mself\u001b[0m\u001b[0;34m,\u001b[0m \u001b[0;34m*\u001b[0m\u001b[0margs\u001b[0m\u001b[0;34m,\u001b[0m \u001b[0;34m**\u001b[0m\u001b[0mkwargs\u001b[0m\u001b[0;34m)\u001b[0m\u001b[0;34m:\u001b[0m\u001b[0;34m\u001b[0m\u001b[0m\n",
      "\u001b[0;32m/usr/local/lib/python3.5/dist-packages/scipy/sparse/coo.py\u001b[0m in \u001b[0;36m_check\u001b[0;34m(self)\u001b[0m\n\u001b[1;32m    270\u001b[0m         \u001b[0;32mif\u001b[0m \u001b[0mself\u001b[0m\u001b[0;34m.\u001b[0m\u001b[0mnnz\u001b[0m \u001b[0;34m>\u001b[0m \u001b[0;36m0\u001b[0m\u001b[0;34m:\u001b[0m\u001b[0;34m\u001b[0m\u001b[0m\n\u001b[1;32m    271\u001b[0m             \u001b[0;32mif\u001b[0m \u001b[0mself\u001b[0m\u001b[0;34m.\u001b[0m\u001b[0mrow\u001b[0m\u001b[0;34m.\u001b[0m\u001b[0mmax\u001b[0m\u001b[0;34m(\u001b[0m\u001b[0;34m)\u001b[0m \u001b[0;34m>=\u001b[0m \u001b[0mself\u001b[0m\u001b[0;34m.\u001b[0m\u001b[0mshape\u001b[0m\u001b[0;34m[\u001b[0m\u001b[0;36m0\u001b[0m\u001b[0;34m]\u001b[0m\u001b[0;34m:\u001b[0m\u001b[0;34m\u001b[0m\u001b[0m\n\u001b[0;32m--> 272\u001b[0;31m                 \u001b[0;32mraise\u001b[0m \u001b[0mValueError\u001b[0m\u001b[0;34m(\u001b[0m\u001b[0;34m'row index exceeds matrix dimensions'\u001b[0m\u001b[0;34m)\u001b[0m\u001b[0;34m\u001b[0m\u001b[0m\n\u001b[0m\u001b[1;32m    273\u001b[0m             \u001b[0;32mif\u001b[0m \u001b[0mself\u001b[0m\u001b[0;34m.\u001b[0m\u001b[0mcol\u001b[0m\u001b[0;34m.\u001b[0m\u001b[0mmax\u001b[0m\u001b[0;34m(\u001b[0m\u001b[0;34m)\u001b[0m \u001b[0;34m>=\u001b[0m \u001b[0mself\u001b[0m\u001b[0;34m.\u001b[0m\u001b[0mshape\u001b[0m\u001b[0;34m[\u001b[0m\u001b[0;36m1\u001b[0m\u001b[0;34m]\u001b[0m\u001b[0;34m:\u001b[0m\u001b[0;34m\u001b[0m\u001b[0m\n\u001b[1;32m    274\u001b[0m                 \u001b[0;32mraise\u001b[0m \u001b[0mValueError\u001b[0m\u001b[0;34m(\u001b[0m\u001b[0;34m'column index exceeds matrix dimensions'\u001b[0m\u001b[0;34m)\u001b[0m\u001b[0;34m\u001b[0m\u001b[0m\n",
      "\u001b[0;31mValueError\u001b[0m: row index exceeds matrix dimensions"
     ]
    }
   ],
   "source": [
    "plot_hic_with_tads(hic_data=mat_data, tad_file=tad_file, chromo=chrom, bin_size=resolution, hic_start=map_start, hic_end=map_end)"
   ]
  },
  {
   "cell_type": "code",
   "execution_count": 10,
   "metadata": {},
   "outputs": [
    {
     "ename": "NameError",
     "evalue": "name 'data' is not defined",
     "output_type": "error",
     "traceback": [
      "\u001b[0;31m---------------------------------------------------------------------------\u001b[0m",
      "\u001b[0;31mNameError\u001b[0m                                 Traceback (most recent call last)",
      "\u001b[0;32m<ipython-input-10-afabec6783c3>\u001b[0m in \u001b[0;36m<module>\u001b[0;34m()\u001b[0m\n\u001b[0;32m----> 1\u001b[0;31m \u001b[0mdata\u001b[0m \u001b[0;34m=\u001b[0m \u001b[0mdata\u001b[0m\u001b[0;34m[\u001b[0m\u001b[0;34m(\u001b[0m \u001b[0mdata\u001b[0m\u001b[0;34m.\u001b[0m\u001b[0mbin1\u001b[0m \u001b[0;34m>=\u001b[0m \u001b[0mstart\u001b[0m \u001b[0;32mand\u001b[0m \u001b[0mdata\u001b[0m\u001b[0;34m.\u001b[0m\u001b[0mbin2\u001b[0m \u001b[0;34m<=\u001b[0m \u001b[0mend\u001b[0m\u001b[0;34m)\u001b[0m\u001b[0;34m]\u001b[0m\u001b[0;34m\u001b[0m\u001b[0m\n\u001b[0m",
      "\u001b[0;31mNameError\u001b[0m: name 'data' is not defined"
     ]
    }
   ],
   "source": [
    "data = mat_data[( mat_data.bin1 >= map_start and data.bin2 <= map_end)]"
   ]
  },
  {
   "cell_type": "code",
   "execution_count": 9,
   "metadata": {},
   "outputs": [
    {
     "ename": "NameError",
     "evalue": "name 'hic_data' is not defined",
     "output_type": "error",
     "traceback": [
      "\u001b[0;31m---------------------------------------------------------------------------\u001b[0m",
      "\u001b[0;31mNameError\u001b[0m                                 Traceback (most recent call last)",
      "\u001b[0;32m<ipython-input-9-4dd104c892a7>\u001b[0m in \u001b[0;36m<module>\u001b[0;34m()\u001b[0m\n\u001b[1;32m      1\u001b[0m \u001b[0;34m\u001b[0m\u001b[0m\n\u001b[1;32m      2\u001b[0m \u001b[0;31m# convert Hi-C data to matrix format\u001b[0m\u001b[0;34m\u001b[0m\u001b[0;34m\u001b[0m\u001b[0m\n\u001b[0;32m----> 3\u001b[0;31m \u001b[0mm\u001b[0m \u001b[0;34m=\u001b[0m \u001b[0mto_matrix\u001b[0m\u001b[0;34m(\u001b[0m\u001b[0mhic_data\u001b[0m\u001b[0;34m,\u001b[0m \u001b[0mchrom\u001b[0m\u001b[0;34m,\u001b[0m \u001b[0mchrom\u001b[0m\u001b[0;34m,\u001b[0m \u001b[0mbin_size\u001b[0m\u001b[0;34m,\u001b[0m \u001b[0mstart1\u001b[0m\u001b[0;34m=\u001b[0m\u001b[0mhic_start\u001b[0m\u001b[0;34m,\u001b[0m \u001b[0mend1\u001b[0m\u001b[0;34m=\u001b[0m\u001b[0mhic_end\u001b[0m\u001b[0;34m,\u001b[0m \u001b[0mstart2\u001b[0m\u001b[0;34m=\u001b[0m\u001b[0mhic_start\u001b[0m\u001b[0;34m,\u001b[0m \u001b[0mend2\u001b[0m\u001b[0;34m=\u001b[0m\u001b[0mhic_end\u001b[0m\u001b[0;34m)\u001b[0m\u001b[0;34m\u001b[0m\u001b[0m\n\u001b[0m",
      "\u001b[0;31mNameError\u001b[0m: name 'hic_data' is not defined"
     ]
    }
   ],
   "source": [
    "\n",
    "# convert Hi-C data to matrix format\n",
    "data = data\n",
    "m = to_matrix(hic_data=mat_data, chrom, chrom, bin_size, start1=map_start, end1=map_end, start2=map_start, end2=map_end)\n"
   ]
  },
  {
   "cell_type": "code",
   "execution_count": 14,
   "metadata": {},
   "outputs": [
    {
     "ename": "NameError",
     "evalue": "name 'hic_data' is not defined",
     "output_type": "error",
     "traceback": [
      "\u001b[0;31m---------------------------------------------------------------------------\u001b[0m",
      "\u001b[0;31mNameError\u001b[0m                                 Traceback (most recent call last)",
      "\u001b[0;32m<ipython-input-14-7f3845074376>\u001b[0m in \u001b[0;36m<module>\u001b[0;34m()\u001b[0m\n\u001b[1;32m      1\u001b[0m \u001b[0;34m\u001b[0m\u001b[0m\n\u001b[1;32m      2\u001b[0m \u001b[0;31m# convert Hi-C data to matrix format\u001b[0m\u001b[0;34m\u001b[0m\u001b[0;34m\u001b[0m\u001b[0m\n\u001b[0;32m----> 3\u001b[0;31m \u001b[0mm\u001b[0m \u001b[0;34m=\u001b[0m \u001b[0mto_matrix\u001b[0m\u001b[0;34m(\u001b[0m\u001b[0mhic_data\u001b[0m\u001b[0;34m,\u001b[0m \u001b[0mchrom\u001b[0m\u001b[0;34m,\u001b[0m \u001b[0mchrom\u001b[0m\u001b[0;34m,\u001b[0m \u001b[0mbin_size\u001b[0m\u001b[0;34m,\u001b[0m \u001b[0mstart1\u001b[0m\u001b[0;34m=\u001b[0m\u001b[0mhic_start\u001b[0m\u001b[0;34m,\u001b[0m \u001b[0mend1\u001b[0m\u001b[0;34m=\u001b[0m\u001b[0mhic_end\u001b[0m\u001b[0;34m,\u001b[0m \u001b[0mstart2\u001b[0m\u001b[0;34m=\u001b[0m\u001b[0mhic_start\u001b[0m\u001b[0;34m,\u001b[0m \u001b[0mend2\u001b[0m\u001b[0;34m=\u001b[0m\u001b[0mhic_end\u001b[0m\u001b[0;34m)\u001b[0m\u001b[0;34m\u001b[0m\u001b[0m\n\u001b[0m\u001b[1;32m      4\u001b[0m \u001b[0;34m\u001b[0m\u001b[0m\n\u001b[1;32m      5\u001b[0m \u001b[0mdiagonal_height\u001b[0m \u001b[0;34m=\u001b[0m \u001b[0mnp\u001b[0m\u001b[0;34m.\u001b[0m\u001b[0msqrt\u001b[0m\u001b[0;34m(\u001b[0m\u001b[0mm\u001b[0m\u001b[0;34m.\u001b[0m\u001b[0mshape\u001b[0m\u001b[0;34m[\u001b[0m\u001b[0;36m0\u001b[0m\u001b[0;34m]\u001b[0m\u001b[0;34m**\u001b[0m\u001b[0;36m2\u001b[0m \u001b[0;34m/\u001b[0m \u001b[0;36m2\u001b[0m\u001b[0;34m)\u001b[0m\u001b[0;34m\u001b[0m\u001b[0m\n",
      "\u001b[0;31mNameError\u001b[0m: name 'hic_data' is not defined"
     ]
    }
   ],
   "source": [
    "\n",
    "# convert Hi-C data to matrix format\n",
    "m = to_matrix(hic_data, chrom, chrom, bin_size, start1=hic_start, end1=hic_end, start2=hic_start, end2=hic_end)\n",
    "\n",
    "diagonal_height = np.sqrt(m.shape[0]**2 / 2)\n",
    "\n",
    "my_map = plt.get_cmap(\"Reds\")\n",
    "my_map.set_under('white')\n",
    "fig, ax = plt.subplots(1, 1, figsize=(20, 20))\n",
    "X = np.log10(np.triu(m.todense()*shrinkValue) + 1)\n",
    "ax.matshow( rotate(X, 45), cmap=my_map, vmin=0.01 )\n",
    "\n",
    "plt.ylim(diagonal_height)\n",
    "plt.xticks([])\n",
    "plt.yticks([])\n",
    "plt.axis('off')\n",
    "\n",
    "for tad_start, tad_end in zip(tad_toplot[0], tad_toplot[1]):\n",
    "\n",
    "    tad_start_bin = (tad_start - start)//resolution  # tad_pos_1 -> tad_bin_1\n",
    "    tad_end_bin = (tad_end - start)//resolution\n",
    "\n",
    "\n",
    "    conv_start = np.sqrt(2) * tad_start_bin  # distance to bin start: on the side of the square, it is the # of bins but in triangle plot, it is the diagonal\n",
    "    conv_end = np.sqrt(2) * tad_end_bin\n",
    "\n",
    "\n",
    "    tad_triangle = np.array([\n",
    "        [conv_start,diagonal_height],\n",
    "        [0.5*(conv_start+conv_end), diagonal_height-(conv_end-conv_start)*0.5],\n",
    "        [conv_end, diagonal_height]\n",
    "    ])\n",
    "\n",
    "\n",
    "\n",
    "    t1 = plt.Polygon(tad_triangle, facecolor='none', edgecolor='black', linewidth=10)\n",
    "\n",
    "\n",
    "    ax.add_patch(t1)\n"
   ]
  },
  {
   "cell_type": "code",
   "execution_count": null,
   "metadata": {},
   "outputs": [],
   "source": []
  }
 ],
 "metadata": {
  "kernelspec": {
   "display_name": "Python 3",
   "language": "python",
   "name": "python3"
  },
  "language_info": {
   "codemirror_mode": {
    "name": "ipython",
    "version": 3
   },
   "file_extension": ".py",
   "mimetype": "text/x-python",
   "name": "python",
   "nbconvert_exporter": "python",
   "pygments_lexer": "ipython3",
   "version": "3.5.2"
  }
 },
 "nbformat": 4,
 "nbformat_minor": 2
}
